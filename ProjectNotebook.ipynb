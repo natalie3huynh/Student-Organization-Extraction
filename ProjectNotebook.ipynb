{
 "cells": [
  {
   "cell_type": "markdown",
   "metadata": {},
   "source": [
    "# Project Description"
   ]
  },
  {
   "cell_type": "markdown",
   "metadata": {},
   "source": [
    "This project was created to web scrape data from the UCSD Student Organization Website which contains over 500 student organizations. As part of my work at the UCSD Career Center, my responsibility was to create a database which only extracts the academic program (ex: Undergraduate or Graduate), the purpose of the club, the official club email, and all club board emails for specific clubs related to what our Associate Directors oversee. This was to be organized into a Google Spreadsheet, but due to the formatting of the website, this data was not easily transferrable and over 2000 emails had to be manually transported. \n",
    "\n",
    "In essence, even though all of the data currently exists, this project will filter out only the necessary data needed from our staff based on a specified url. \n",
    "\n",
    "#### Note: \n",
    "\n",
    "While this project and demo is only coded to work with one base url currently (which can be re-assigned to the url of the club page that the user desires), I plan on continuing this project to be able to loop through and access all 500+ student organizations and later store all of this information in a new CSV file. \n",
    "\n",
    "The demo below will show a case which specifies the ACM AI club page as it's base url and extract all of the needed data.\n",
    "\n",
    "#### Citations: \n",
    "\n",
    "Since this project focused on webscraping/parsing data and using HTML related properties, I conducted research across multiple websites to understand how to build my code. The following sites were referenced throughout this project.\n",
    "\n",
    "1. To parse data: https://realpython.com/beautiful-soup-web-scraper-python/ \n",
    "2. Referenced in order to extract data from certain tags: https://stackoverflow.com/questions/32475700/using-beautifulsoup-to-extract-specific-dl-and-dd-list-elements\n",
    "\n",
    "3. To explain (but not write) code: Chatgpt"
   ]
  },
  {
   "cell_type": "markdown",
   "metadata": {},
   "source": [
    "## Project Code\n",
    "\n",
    "If it makes sense for your project, you can have code and outputs here in the notebook as well."
   ]
  },
  {
   "cell_type": "code",
   "execution_count": 7,
   "metadata": {},
   "outputs": [],
   "source": [
    "base_url = 'https://studentorg.ucsd.edu/Home/Details/15823'\n",
    "from my_module.functions import ext_ac_program, ext_purpose, ext_club_email, ext_board_emails"
   ]
  },
  {
   "cell_type": "code",
   "execution_count": 8,
   "metadata": {},
   "outputs": [
    {
     "data": {
      "text/plain": [
       "'Undergraduate'"
      ]
     },
     "execution_count": 8,
     "metadata": {},
     "output_type": "execute_result"
    }
   ],
   "source": [
    "#demo extracting academic program from ACM AI club page\n",
    "ext_ac_program(base_url)"
   ]
  },
  {
   "cell_type": "code",
   "execution_count": 9,
   "metadata": {},
   "outputs": [
    {
     "data": {
      "text/plain": [
       "'                At ACM AI, our goals are to increase and promote interest in Artificial Intelligence at UCSD. We believe learning about AI should be accessible for everyone, and to this end, we want to lower the barrier for entry for folks interested in learning about AI. We aim to do this by hosting activities such as technical workshops, research panels, and AI competitions to both enhance the skills of our members and develop a connected community of scholars interested in AI. We hope that through member participation in our events, they will learn about the applications of AI in academia and industry, and moreover, we hope that everyone can learn about the hands-on, fun aspects of AI.            '"
      ]
     },
     "execution_count": 9,
     "metadata": {},
     "output_type": "execute_result"
    }
   ],
   "source": [
    "#demo extracting purpose from ACM AI club page\n",
    "ext_purpose(base_url)"
   ]
  },
  {
   "cell_type": "code",
   "execution_count": 10,
   "metadata": {},
   "outputs": [
    {
     "data": {
      "text/plain": [
       "'ai@acmucsd.org'"
      ]
     },
     "execution_count": 10,
     "metadata": {},
     "output_type": "execute_result"
    }
   ],
   "source": [
    "#demo extracting club email from ACM AI club page\n",
    "ext_club_email(base_url)"
   ]
  },
  {
   "cell_type": "code",
   "execution_count": 11,
   "metadata": {},
   "outputs": [
    {
     "data": {
      "text/plain": [
       "['stao@ucsd.edu', 'jzamoraanaya@ucsd.edu', 'jpiepkorn@ucsd.edu']"
      ]
     },
     "execution_count": 11,
     "metadata": {},
     "output_type": "execute_result"
    }
   ],
   "source": [
    "#demo extracting list of board emails from ACM AI club page\n",
    "ext_board_emails(base_url)"
   ]
  },
  {
   "cell_type": "code",
   "execution_count": 12,
   "metadata": {},
   "outputs": [
    {
     "name": "stdout",
     "output_type": "stream",
     "text": [
      "\u001b[1m============================= test session starts ==============================\u001b[0m\n",
      "platform linux -- Python 3.9.5, pytest-7.2.2, pluggy-1.0.0\n",
      "rootdir: /home/n3huynh/Final_Project_COGS18_SP23\n",
      "plugins: anyio-3.2.1\n",
      "collected 4 items                                                              \u001b[0m\u001b[1m\n",
      "\n",
      "my_module/test_functions.py \u001b[32m.\u001b[0m\u001b[32m.\u001b[0m\u001b[32m.\u001b[0m\u001b[32m.\u001b[0m\u001b[32m                                         [100%]\u001b[0m\n",
      "\n",
      "\u001b[32m============================== \u001b[32m\u001b[1m4 passed\u001b[0m\u001b[32m in 2.46s\u001b[0m\u001b[32m ===============================\u001b[0m\n"
     ]
    }
   ],
   "source": [
    "# test it out\n",
    "!pytest"
   ]
  },
  {
   "cell_type": "markdown",
   "metadata": {},
   "source": [
    "#### Extra Credit (*optional*)\n",
    "\n",
    "1. Prior to this class, I had little to no coding background (I used Matlab for simple matrix operations for my Linear Algebra class alone). \n",
    "\n",
    "\n",
    "2. I challenged myself to do this project since it was something I would need to use in my current job outside of class. It required a lot of research on my end on how to develop an understanding of how to apply BeautifulSoup, pandas, read html tags and be able to inspect a page, learn about nextSibling (and finding that it was not applicable for what I needed), parsing data, NavigableStrings, etc. which was outside the scope of this class. I had also learned how to extract all 500+ urls from this site, but was unable to include it as I will likely continue to work on this project to figure out how to access content in these urls using a loop and other functions. "
   ]
  }
 ],
 "metadata": {
  "kernelspec": {
   "display_name": "Python 3 (ipykernel)",
   "language": "python",
   "name": "python3"
  },
  "language_info": {
   "codemirror_mode": {
    "name": "ipython",
    "version": 3
   },
   "file_extension": ".py",
   "mimetype": "text/x-python",
   "name": "python",
   "nbconvert_exporter": "python",
   "pygments_lexer": "ipython3",
   "version": "3.9.5"
  }
 },
 "nbformat": 4,
 "nbformat_minor": 2
}
